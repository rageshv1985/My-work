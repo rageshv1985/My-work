{
  "cells": [
    {
      "cell_type": "markdown",
      "metadata": {
        "id": "view-in-github",
        "colab_type": "text"
      },
      "source": [
        "<a href=\"https://colab.research.google.com/github/rageshv1985/My-work/blob/main/site/en/tutorials/quickstart/beginner.ipynb\" target=\"_parent\"><img src=\"https://colab.research.google.com/assets/colab-badge.svg\" alt=\"Open In Colab\"/></a>"
      ]
    },
    {
      "cell_type": "markdown",
      "metadata": {
        "id": "rX8mhOLljYeM"
      },
      "source": [
        "##### Copyright 2019 The TensorFlow Authors."
      ]
    },
    {
      "cell_type": "code",
      "execution_count": 1,
      "metadata": {
        "id": "BZSlp3DAjdYf"
      },
      "outputs": [],
      "source": [
        "#@title Licensed under the Apache License, Version 2.0 (the \"License\");\n",
        "# you may not use this file except in compliance with the License.\n",
        "# You may obtain a copy of the License at\n",
        "#\n",
        "# https://www.apache.org/licenses/LICENSE-2.0\n",
        "#\n",
        "# Unless required by applicable law or agreed to in writing, software\n",
        "# distributed under the License is distributed on an \"AS IS\" BASIS,\n",
        "# WITHOUT WARRANTIES OR CONDITIONS OF ANY KIND, either express or implied.\n",
        "# See the License for the specific language governing permissions and\n",
        "# limitations under the License."
      ]
    },
    {
      "cell_type": "markdown",
      "metadata": {
        "id": "3wF5wszaj97Y"
      },
      "source": [
        "# TensorFlow 2 quickstart for beginners"
      ]
    },
    {
      "cell_type": "markdown",
      "metadata": {
        "id": "DUNzJc4jTj6G"
      },
      "source": [
        "<table class=\"tfo-notebook-buttons\" align=\"left\">\n",
        "  <td>\n",
        "    <a target=\"_blank\" href=\"https://www.tensorflow.org/tutorials/quickstart/beginner\"><img src=\"https://www.tensorflow.org/images/tf_logo_32px.png\" />View on TensorFlow.org</a>\n",
        "  </td>\n",
        "  <td>\n",
        "    <a target=\"_blank\" href=\"https://colab.research.google.com/github/tensorflow/docs/blob/master/site/en/tutorials/quickstart/beginner.ipynb\"><img src=\"https://www.tensorflow.org/images/colab_logo_32px.png\" />Run in Google Colab</a>\n",
        "  </td>\n",
        "  <td>\n",
        "    <a target=\"_blank\" href=\"https://github.com/tensorflow/docs/blob/master/site/en/tutorials/quickstart/beginner.ipynb\"><img src=\"https://www.tensorflow.org/images/GitHub-Mark-32px.png\" />View source on GitHub</a>\n",
        "  </td>\n",
        "  <td>\n",
        "    <a href=\"https://storage.googleapis.com/tensorflow_docs/docs/site/en/tutorials/quickstart/beginner.ipynb\"><img src=\"https://www.tensorflow.org/images/download_logo_32px.png\" />Download notebook</a>\n",
        "  </td>\n",
        "</table>"
      ]
    },
    {
      "cell_type": "markdown",
      "metadata": {
        "id": "04QgGZc9bF5D"
      },
      "source": [
        "This short introduction uses [Keras](https://www.tensorflow.org/guide/keras/overview) to:\n",
        "\n",
        "1. Load a prebuilt dataset.\n",
        "1. Build a neural network machine learning model that classifies images.\n",
        "2. Train this neural network.\n",
        "3. Evaluate the accuracy of the model."
      ]
    },
    {
      "cell_type": "markdown",
      "metadata": {
        "id": "hiH7AC-NTniF"
      },
      "source": [
        "This tutorial is a [Google Colaboratory](https://colab.research.google.com/notebooks/welcome.ipynb) notebook. Python programs are run directly in the browser—a great way to learn and use TensorFlow. To follow this tutorial, run the notebook in Google Colab by clicking the button at the top of this page.\n",
        "\n",
        "1. In Colab, connect to a Python runtime: At the top-right of the menu bar, select *CONNECT*.\n",
        "2. Run all the notebook code cells: Select *Runtime* > *Run all*."
      ]
    },
    {
      "cell_type": "markdown",
      "metadata": {
        "id": "nnrWf3PCEzXL"
      },
      "source": [
        "## Set up TensorFlow\n",
        "\n",
        "Import TensorFlow into your program to get started:"
      ]
    },
    {
      "cell_type": "code",
      "execution_count": 2,
      "metadata": {
        "id": "0trJmd6DjqBZ",
        "outputId": "78d7e84a-5473-4fb0-90d8-0f99f90d9176",
        "colab": {
          "base_uri": "https://localhost:8080/"
        }
      },
      "outputs": [
        {
          "output_type": "stream",
          "name": "stdout",
          "text": [
            "TensorFlow version: 2.8.0\n"
          ]
        }
      ],
      "source": [
        "import tensorflow as tf\n",
        "print(\"TensorFlow version:\", tf.__version__)"
      ]
    },
    {
      "cell_type": "code",
      "source": [
        "vector_tf=tf.constant((0,1,2,3,4))"
      ],
      "metadata": {
        "id": "kSK0OeUK2TKA"
      },
      "execution_count": 3,
      "outputs": []
    },
    {
      "cell_type": "code",
      "source": [
        "from tensorflow import keras\n"
      ],
      "metadata": {
        "id": "BFs2_ljT2fmN"
      },
      "execution_count": 6,
      "outputs": []
    },
    {
      "cell_type": "code",
      "source": [
        "import pandas as pd\n",
        "from google.colab import files\n",
        "uploaded = files.upload()\n"
      ],
      "metadata": {
        "id": "jdRnMNZPP134",
        "outputId": "17c622c5-9e5e-4e34-a60c-333568dbd0ba",
        "colab": {
          "resources": {
            "http://localhost:8080/nbextensions/google.colab/files.js": {
              "data": "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",
              "ok": true,
              "headers": [
                [
                  "content-type",
                  "application/javascript"
                ]
              ],
              "status": 200,
              "status_text": ""
            }
          },
          "base_uri": "https://localhost:8080/",
          "height": 73
        }
      },
      "execution_count": 9,
      "outputs": [
        {
          "output_type": "display_data",
          "data": {
            "text/plain": [
              "<IPython.core.display.HTML object>"
            ],
            "text/html": [
              "\n",
              "     <input type=\"file\" id=\"files-507f0c59-e008-4993-ac8c-73c2b26c93ed\" name=\"files[]\" multiple disabled\n",
              "        style=\"border:none\" />\n",
              "     <output id=\"result-507f0c59-e008-4993-ac8c-73c2b26c93ed\">\n",
              "      Upload widget is only available when the cell has been executed in the\n",
              "      current browser session. Please rerun this cell to enable.\n",
              "      </output>\n",
              "      <script src=\"/nbextensions/google.colab/files.js\"></script> "
            ]
          },
          "metadata": {}
        },
        {
          "output_type": "stream",
          "name": "stdout",
          "text": [
            "Saving house_price_full.csv to house_price_full.csv\n"
          ]
        }
      ]
    },
    {
      "cell_type": "code",
      "source": [
        "import io\n",
        "df = pd.read_csv(io.BytesIO(uploaded['house_price_full.csv']))"
      ],
      "metadata": {
        "id": "2Q10mDhaQ0mV"
      },
      "execution_count": 14,
      "outputs": []
    },
    {
      "cell_type": "code",
      "source": [
        "import numpy as np\n",
        "from sklearn.preprocessing import StandardScaler\n",
        "from sklearn.metrics import accuracy_score"
      ],
      "metadata": {
        "id": "3GvDDP0SRLj8"
      },
      "execution_count": 15,
      "outputs": []
    },
    {
      "cell_type": "code",
      "source": [
        "X = df.copy()\n",
        "# Remove target\n",
        "Y = X.pop('price')\n",
        "\n",
        "# perform a scaler transform of the input data\n",
        "scaler = StandardScaler()\n",
        "X = scaler.fit_transform(X)\n",
        "\n",
        "# perform log transformation of target variable (For Sandeep: Is this needed?)\n",
        "Y = np.log(Y)"
      ],
      "metadata": {
        "id": "XqDvLkGmRVqN"
      },
      "execution_count": 16,
      "outputs": []
    },
    {
      "cell_type": "code",
      "source": [
        "df_scaled = pd.DataFrame(X)\n",
        "df_scaled"
      ],
      "metadata": {
        "id": "UoiHDqsGRhom",
        "outputId": "f9c44a07-c90c-4eb2-c359-515cb56ba972",
        "colab": {
          "base_uri": "https://localhost:8080/",
          "height": 424
        }
      },
      "execution_count": 17,
      "outputs": [
        {
          "output_type": "execute_result",
          "data": {
            "text/plain": [
              "            0         1\n",
              "0   -0.433198 -0.753258\n",
              "1    1.675735  1.457330\n",
              "2   -0.433198 -0.188649\n",
              "3   -0.433198 -0.121661\n",
              "4    0.621269 -0.179079\n",
              "..        ...       ...\n",
              "494  0.621269  0.873582\n",
              "495  1.675735  2.299459\n",
              "496 -0.433198 -0.724549\n",
              "497 -0.433198 -0.179079\n",
              "498 -0.433198 -1.040347\n",
              "\n",
              "[499 rows x 2 columns]"
            ],
            "text/html": [
              "\n",
              "  <div id=\"df-68229aa8-1a6d-4a4a-9828-f6f74604cff1\">\n",
              "    <div class=\"colab-df-container\">\n",
              "      <div>\n",
              "<style scoped>\n",
              "    .dataframe tbody tr th:only-of-type {\n",
              "        vertical-align: middle;\n",
              "    }\n",
              "\n",
              "    .dataframe tbody tr th {\n",
              "        vertical-align: top;\n",
              "    }\n",
              "\n",
              "    .dataframe thead th {\n",
              "        text-align: right;\n",
              "    }\n",
              "</style>\n",
              "<table border=\"1\" class=\"dataframe\">\n",
              "  <thead>\n",
              "    <tr style=\"text-align: right;\">\n",
              "      <th></th>\n",
              "      <th>0</th>\n",
              "      <th>1</th>\n",
              "    </tr>\n",
              "  </thead>\n",
              "  <tbody>\n",
              "    <tr>\n",
              "      <th>0</th>\n",
              "      <td>-0.433198</td>\n",
              "      <td>-0.753258</td>\n",
              "    </tr>\n",
              "    <tr>\n",
              "      <th>1</th>\n",
              "      <td>1.675735</td>\n",
              "      <td>1.457330</td>\n",
              "    </tr>\n",
              "    <tr>\n",
              "      <th>2</th>\n",
              "      <td>-0.433198</td>\n",
              "      <td>-0.188649</td>\n",
              "    </tr>\n",
              "    <tr>\n",
              "      <th>3</th>\n",
              "      <td>-0.433198</td>\n",
              "      <td>-0.121661</td>\n",
              "    </tr>\n",
              "    <tr>\n",
              "      <th>4</th>\n",
              "      <td>0.621269</td>\n",
              "      <td>-0.179079</td>\n",
              "    </tr>\n",
              "    <tr>\n",
              "      <th>...</th>\n",
              "      <td>...</td>\n",
              "      <td>...</td>\n",
              "    </tr>\n",
              "    <tr>\n",
              "      <th>494</th>\n",
              "      <td>0.621269</td>\n",
              "      <td>0.873582</td>\n",
              "    </tr>\n",
              "    <tr>\n",
              "      <th>495</th>\n",
              "      <td>1.675735</td>\n",
              "      <td>2.299459</td>\n",
              "    </tr>\n",
              "    <tr>\n",
              "      <th>496</th>\n",
              "      <td>-0.433198</td>\n",
              "      <td>-0.724549</td>\n",
              "    </tr>\n",
              "    <tr>\n",
              "      <th>497</th>\n",
              "      <td>-0.433198</td>\n",
              "      <td>-0.179079</td>\n",
              "    </tr>\n",
              "    <tr>\n",
              "      <th>498</th>\n",
              "      <td>-0.433198</td>\n",
              "      <td>-1.040347</td>\n",
              "    </tr>\n",
              "  </tbody>\n",
              "</table>\n",
              "<p>499 rows × 2 columns</p>\n",
              "</div>\n",
              "      <button class=\"colab-df-convert\" onclick=\"convertToInteractive('df-68229aa8-1a6d-4a4a-9828-f6f74604cff1')\"\n",
              "              title=\"Convert this dataframe to an interactive table.\"\n",
              "              style=\"display:none;\">\n",
              "        \n",
              "  <svg xmlns=\"http://www.w3.org/2000/svg\" height=\"24px\"viewBox=\"0 0 24 24\"\n",
              "       width=\"24px\">\n",
              "    <path d=\"M0 0h24v24H0V0z\" fill=\"none\"/>\n",
              "    <path d=\"M18.56 5.44l.94 2.06.94-2.06 2.06-.94-2.06-.94-.94-2.06-.94 2.06-2.06.94zm-11 1L8.5 8.5l.94-2.06 2.06-.94-2.06-.94L8.5 2.5l-.94 2.06-2.06.94zm10 10l.94 2.06.94-2.06 2.06-.94-2.06-.94-.94-2.06-.94 2.06-2.06.94z\"/><path d=\"M17.41 7.96l-1.37-1.37c-.4-.4-.92-.59-1.43-.59-.52 0-1.04.2-1.43.59L10.3 9.45l-7.72 7.72c-.78.78-.78 2.05 0 2.83L4 21.41c.39.39.9.59 1.41.59.51 0 1.02-.2 1.41-.59l7.78-7.78 2.81-2.81c.8-.78.8-2.07 0-2.86zM5.41 20L4 18.59l7.72-7.72 1.47 1.35L5.41 20z\"/>\n",
              "  </svg>\n",
              "      </button>\n",
              "      \n",
              "  <style>\n",
              "    .colab-df-container {\n",
              "      display:flex;\n",
              "      flex-wrap:wrap;\n",
              "      gap: 12px;\n",
              "    }\n",
              "\n",
              "    .colab-df-convert {\n",
              "      background-color: #E8F0FE;\n",
              "      border: none;\n",
              "      border-radius: 50%;\n",
              "      cursor: pointer;\n",
              "      display: none;\n",
              "      fill: #1967D2;\n",
              "      height: 32px;\n",
              "      padding: 0 0 0 0;\n",
              "      width: 32px;\n",
              "    }\n",
              "\n",
              "    .colab-df-convert:hover {\n",
              "      background-color: #E2EBFA;\n",
              "      box-shadow: 0px 1px 2px rgba(60, 64, 67, 0.3), 0px 1px 3px 1px rgba(60, 64, 67, 0.15);\n",
              "      fill: #174EA6;\n",
              "    }\n",
              "\n",
              "    [theme=dark] .colab-df-convert {\n",
              "      background-color: #3B4455;\n",
              "      fill: #D2E3FC;\n",
              "    }\n",
              "\n",
              "    [theme=dark] .colab-df-convert:hover {\n",
              "      background-color: #434B5C;\n",
              "      box-shadow: 0px 1px 3px 1px rgba(0, 0, 0, 0.15);\n",
              "      filter: drop-shadow(0px 1px 2px rgba(0, 0, 0, 0.3));\n",
              "      fill: #FFFFFF;\n",
              "    }\n",
              "  </style>\n",
              "\n",
              "      <script>\n",
              "        const buttonEl =\n",
              "          document.querySelector('#df-68229aa8-1a6d-4a4a-9828-f6f74604cff1 button.colab-df-convert');\n",
              "        buttonEl.style.display =\n",
              "          google.colab.kernel.accessAllowed ? 'block' : 'none';\n",
              "\n",
              "        async function convertToInteractive(key) {\n",
              "          const element = document.querySelector('#df-68229aa8-1a6d-4a4a-9828-f6f74604cff1');\n",
              "          const dataTable =\n",
              "            await google.colab.kernel.invokeFunction('convertToInteractive',\n",
              "                                                     [key], {});\n",
              "          if (!dataTable) return;\n",
              "\n",
              "          const docLinkHtml = 'Like what you see? Visit the ' +\n",
              "            '<a target=\"_blank\" href=https://colab.research.google.com/notebooks/data_table.ipynb>data table notebook</a>'\n",
              "            + ' to learn more about interactive tables.';\n",
              "          element.innerHTML = '';\n",
              "          dataTable['output_type'] = 'display_data';\n",
              "          await google.colab.output.renderOutput(dataTable, element);\n",
              "          const docLink = document.createElement('div');\n",
              "          docLink.innerHTML = docLinkHtml;\n",
              "          element.appendChild(docLink);\n",
              "        }\n",
              "      </script>\n",
              "    </div>\n",
              "  </div>\n",
              "  "
            ]
          },
          "metadata": {},
          "execution_count": 17
        }
      ]
    },
    {
      "cell_type": "code",
      "source": [
        "Y"
      ],
      "metadata": {
        "id": "JZb87LWcRnRt",
        "outputId": "c59e6ceb-66d4-41ee-825c-1bacd6340c1c",
        "colab": {
          "base_uri": "https://localhost:8080/"
        }
      },
      "execution_count": 18,
      "outputs": [
        {
          "output_type": "execute_result",
          "data": {
            "text/plain": [
              "0      12.653958\n",
              "1      14.684290\n",
              "2      12.742566\n",
              "3      12.948010\n",
              "4      13.217674\n",
              "         ...    \n",
              "494    13.380102\n",
              "495    13.764217\n",
              "496    12.128111\n",
              "497    12.721886\n",
              "498    12.254863\n",
              "Name: price, Length: 499, dtype: float64"
            ]
          },
          "metadata": {},
          "execution_count": 18
        }
      ]
    },
    {
      "cell_type": "code",
      "source": [
        "import tensorflow as tf"
      ],
      "metadata": {
        "id": "G6x3XtGERoJt"
      },
      "execution_count": 19,
      "outputs": []
    },
    {
      "cell_type": "code",
      "source": [
        "model = keras.Sequential(\n",
        "    [\n",
        "        keras.layers.Dense(\n",
        "            2, activation=\"sigmoid\", input_shape=(X.shape[-1],)\n",
        "        ),\n",
        "        keras.layers.Dense(1, activation=\"linear\")\n",
        "    ]\n",
        ")\n",
        "model.summary()"
      ],
      "metadata": {
        "id": "mLr9x4SgRoQZ",
        "outputId": "d225f1bb-cc77-4035-9d25-1e56da268118",
        "colab": {
          "base_uri": "https://localhost:8080/"
        }
      },
      "execution_count": 20,
      "outputs": [
        {
          "output_type": "stream",
          "name": "stdout",
          "text": [
            "Model: \"sequential\"\n",
            "_________________________________________________________________\n",
            " Layer (type)                Output Shape              Param #   \n",
            "=================================================================\n",
            " dense (Dense)               (None, 2)                 6         \n",
            "                                                                 \n",
            " dense_1 (Dense)             (None, 1)                 3         \n",
            "                                                                 \n",
            "=================================================================\n",
            "Total params: 9\n",
            "Trainable params: 9\n",
            "Non-trainable params: 0\n",
            "_________________________________________________________________\n"
          ]
        }
      ]
    },
    {
      "cell_type": "code",
      "source": [
        "\n",
        "def random_init_params():\n",
        "    w1 = tf.Variable(tf.random.uniform((2, 2)))\n",
        "    b1 = tf.Variable(tf.random.uniform((1, 2)))\n",
        "    w2 = tf.Variable(tf.random.uniform((2, 1)))\n",
        "    b2 = tf.Variable(tf.random.uniform((1, 1)))\n",
        "    return w1,b1,w2,b2\n",
        "\n",
        "\n",
        "def forward_prop(x, w1, b1, w2, b2):\n",
        "    z1 = tf.matmul(x,w1) + b1\n",
        "    h1 = tf.math.sigmoid(z1)\n",
        "    z2 = tf.matmul(h1,w2) + b2\n",
        "    h2 = z2\n",
        "    return h2\n"
      ],
      "metadata": {
        "id": "Gyj6zEMqZLuW"
      },
      "execution_count": 22,
      "outputs": []
    },
    {
      "cell_type": "code",
      "source": [
        "model.compile(\n",
        "    optimizer=keras.optimizers.SGD(), loss=\"mean_squared_error\"\n",
        ")"
      ],
      "metadata": {
        "id": "cb6NOyYxZXYO"
      },
      "execution_count": 23,
      "outputs": []
    },
    {
      "cell_type": "code",
      "source": [
        "def train(x, y, w1, b1, w2, b2):\n",
        "    y_true = y\n",
        "    with tf.GradientTape() as g:\n",
        "        y_pred = forward_prop(x, w1, b1, w2, b2)\n",
        "\n",
        "        # loss\n",
        "        loss = 0.5*(y_true - y_pred)** 2\n",
        "    \n",
        "    #Gradient calculation  \n",
        "    print(\"**************************************************\")\n",
        "    print(\"GRADIENTS\")\n",
        "    print(\"**************************************************\")\n",
        "    gw1, gb1, gw2, gb2 = g.gradient(loss, [w1, b1, w2, b2])\n",
        "    print(\" the gradient for 1st layer weights are:\\n\",gw1.numpy())\n",
        "    print(\"--------------------------------------------------\")\n",
        "    print(\" the gradient for 2nd layer weights are:\\n\",gw2.numpy())\n",
        "    print(\"--------------------------------------------------\")\n",
        "    print(\" the gradient for 1st layer bias are:\\n\",gb1.numpy())\n",
        "    print(\"--------------------------------------------------\")\n",
        "    print(\" the gradient for 2nd layer bias are:\\n\",gb2.numpy())\n",
        "    print(\"--------------------------------------------------\")\n",
        "\n",
        "    # Gradient descent:\n",
        "    lr=0.2\n",
        "    w1.assign_sub(lr*gw1)\n",
        "    b1.assign_sub(lr*gb1) \n",
        "    w2.assign_sub(lr*gw2)\n",
        "    b2.assign_sub(lr*gb2)\n",
        "    print(\"**************************************************\")\n",
        "    print(\"NEW UPDATES\")\n",
        "    print(\"**************************************************\")\n",
        "    print(\" the updated 1st layer weights are:\\n\",w1.numpy())\n",
        "    print(\"--------------------------------------------------\")\n",
        "    print(\" the updated 2nd layer weights are:\\n\",w2.numpy())\n",
        "    print(\"--------------------------------------------------\")\n",
        "    print(\" the updated 1st layer bias are:\\n\",b1.numpy())\n",
        "    print(\"--------------------------------------------------\")\n",
        "    print(\" the updated 2nd layer bias are:\\n\",b2.numpy())\n",
        "\n",
        "\n",
        "    return w1, b1, w2, b2,loss"
      ],
      "metadata": {
        "id": "1EFisYA2Zjgi"
      },
      "execution_count": 24,
      "outputs": []
    },
    {
      "cell_type": "code",
      "source": [
        "model.fit(X,Y.values,epochs=10,batch_size=32)"
      ],
      "metadata": {
        "id": "dDLd9VTbZlX6",
        "outputId": "987487a8-8a3e-4cfe-e7a5-3cec2541cfea",
        "colab": {
          "base_uri": "https://localhost:8080/"
        }
      },
      "execution_count": 25,
      "outputs": [
        {
          "output_type": "stream",
          "name": "stdout",
          "text": [
            "Epoch 1/10\n",
            "16/16 [==============================] - 1s 3ms/step - loss: 118.3440\n",
            "Epoch 2/10\n",
            "16/16 [==============================] - 0s 3ms/step - loss: 36.6615\n",
            "Epoch 3/10\n",
            "16/16 [==============================] - 0s 3ms/step - loss: 8.4479\n",
            "Epoch 4/10\n",
            "16/16 [==============================] - 0s 2ms/step - loss: 1.7483\n",
            "Epoch 5/10\n",
            "16/16 [==============================] - 0s 3ms/step - loss: 0.4441\n",
            "Epoch 6/10\n",
            "16/16 [==============================] - 0s 2ms/step - loss: 0.2055\n",
            "Epoch 7/10\n",
            "16/16 [==============================] - 0s 2ms/step - loss: 0.1605\n",
            "Epoch 8/10\n",
            "16/16 [==============================] - 0s 2ms/step - loss: 0.1501\n",
            "Epoch 9/10\n",
            "16/16 [==============================] - 0s 2ms/step - loss: 0.1460\n",
            "Epoch 10/10\n",
            "16/16 [==============================] - 0s 3ms/step - loss: 0.1436\n"
          ]
        },
        {
          "output_type": "execute_result",
          "data": {
            "text/plain": [
              "<keras.callbacks.History at 0x7f137412c3d0>"
            ]
          },
          "metadata": {},
          "execution_count": 25
        }
      ]
    },
    {
      "cell_type": "code",
      "source": [
        "model.predict(X)[:,0]"
      ],
      "metadata": {
        "id": "LN1Ddd4kZqdC",
        "outputId": "8675613d-e6fc-43ce-9bbe-015bb69b4320",
        "colab": {
          "base_uri": "https://localhost:8080/"
        }
      },
      "execution_count": 26,
      "outputs": [
        {
          "output_type": "execute_result",
          "data": {
            "text/plain": [
              "array([12.743067 , 13.585631 , 13.115648 , 13.15555  , 12.892275 ,\n",
              "       12.682014 , 12.98346  , 13.338497 , 13.379445 , 12.598719 ,\n",
              "       12.984119 , 13.438616 , 13.330652 , 12.5674925, 13.244444 ,\n",
              "       12.645906 , 12.895731 , 13.521446 , 12.763482 , 12.631781 ,\n",
              "       13.285041 , 12.546724 , 13.008713 , 13.348427 , 12.65712  ,\n",
              "       13.205442 , 13.345499 , 13.0567875, 13.194869 , 13.457859 ,\n",
              "       12.6280575, 13.41094  , 12.811781 , 13.392078 , 13.712841 ,\n",
              "       13.703953 , 12.627632 , 13.068885 , 13.132866 , 13.360167 ,\n",
              "       12.902161 , 12.569108 , 12.661716 , 13.020899 , 12.897142 ,\n",
              "       12.617596 , 13.138566 , 13.115648 , 12.694868 , 13.600977 ,\n",
              "       13.338497 , 13.586463 , 13.50559  , 13.039036 , 12.811122 ,\n",
              "       12.879055 , 13.050716 , 13.589474 , 12.729375 , 13.146273 ,\n",
              "       13.600977 , 13.4928055, 13.348427 , 13.430832 , 13.438616 ,\n",
              "       12.695482 , 12.946674 , 12.50939  , 13.629568 , 13.264252 ,\n",
              "       13.245342 , 13.56299  , 13.104603 , 13.098257 , 12.736229 ,\n",
              "       12.93452  , 13.038513 , 13.348427 , 13.007641 , 13.40777  ,\n",
              "       12.924977 , 13.731832 , 13.576836 , 13.039036 , 13.139584 ,\n",
              "       13.392567 , 12.852831 , 12.837065 , 13.019476 , 12.890859 ,\n",
              "       13.3824005, 13.243143 , 13.016134 , 13.34057  , 12.889281 ,\n",
              "       13.149277 , 12.965479 , 13.338192 , 12.790474 , 13.712291 ,\n",
              "       13.5501585, 13.161173 , 12.736229 , 13.15679  , 12.53945  ,\n",
              "       13.434055 , 12.976254 , 13.90218  , 12.654924 , 12.386036 ,\n",
              "       12.501515 , 13.122188 , 12.538551 , 13.035233 , 12.937918 ,\n",
              "       11.941412 , 13.279873 , 12.634474 , 13.387204 , 12.9592285,\n",
              "       12.911957 , 12.817199 , 14.253034 , 13.086565 , 13.086565 ,\n",
              "       12.790474 , 12.569108 , 12.852831 , 13.109871 , 13.434055 ,\n",
              "       13.703953 , 12.882816 , 12.697048 , 13.442966 , 13.222494 ,\n",
              "       13.116347 , 13.039036 , 12.937918 , 13.033009 , 13.1961975,\n",
              "       13.121407 , 12.865568 , 13.634298 , 13.919145 , 12.896374 ,\n",
              "       12.927704 , 12.789131 , 13.635056 , 13.847431 , 13.123848 ,\n",
              "       13.201742 , 12.53923  , 12.827177 , 12.749887 , 13.026226 ,\n",
              "       12.843653 , 13.15555  , 12.781721 , 12.57247  , 12.67507  ,\n",
              "       12.902161 , 13.001404 , 12.432636 , 12.934046 , 13.623357 ,\n",
              "       12.859078 , 12.598719 , 12.695482 , 12.538551 , 12.68792  ,\n",
              "       13.329212 , 13.110485 , 13.387312 , 12.946674 , 12.940369 ,\n",
              "       13.068885 , 12.9314575, 12.790474 , 12.583947 , 13.393698 ,\n",
              "       12.50939  , 12.909664 , 13.134384 , 12.83191  , 13.201742 ,\n",
              "       13.517267 , 12.969915 , 13.068885 , 12.825391 , 13.7472   ,\n",
              "       12.79718  , 12.856776 , 13.227106 , 13.666143 , 12.934046 ,\n",
              "       13.033009 , 12.9314575, 13.092774 , 13.4874525, 12.722506 ,\n",
              "       13.788099 , 13.753235 , 13.312868 , 13.244444 , 13.609272 ,\n",
              "       13.162905 , 13.5581875, 13.323444 , 12.666982 , 13.35336  ,\n",
              "       13.627022 , 12.58188  , 12.508466 , 13.098257 , 12.715588 ,\n",
              "       12.97171  , 12.79718  , 13.852318 , 13.144247 , 12.871914 ,\n",
              "       13.264252 , 12.352934 , 12.837065 , 13.233584 , 13.497087 ,\n",
              "       13.692912 , 12.694868 , 13.847431 , 13.491772 , 12.624697 ,\n",
              "       12.704333 , 12.494728 , 13.190632 , 13.927337 , 12.680956 ,\n",
              "       12.876332 , 12.9149685, 12.58188  , 13.062953 , 13.421667 ,\n",
              "       13.4928055, 12.752954 , 13.179436 , 12.742588 , 13.194493 ,\n",
              "       13.014815 , 12.965479 , 13.101141 , 13.93313  , 12.818596 ,\n",
              "       12.783751 , 13.080691 , 14.013426 , 12.788259 , 13.509814 ,\n",
              "       12.50939  , 12.902161 , 13.282381 , 13.109871 , 13.34057  ,\n",
              "       13.039429 , 13.234569 , 13.703953 , 13.393698 , 12.768605 ,\n",
              "       12.641304 , 12.952546 , 13.020899 , 12.98346  , 13.132866 ,\n",
              "       13.599081 , 13.580719 , 13.749466 , 13.122188 , 12.6930485,\n",
              "       13.308203 , 12.859078 , 13.259005 , 13.172358 , 13.300425 ,\n",
              "       12.921346 , 12.600145 , 13.1518345, 12.934046 , 13.373786 ,\n",
              "       13.6055155, 13.121407 , 12.790474 , 12.5312805, 12.641304 ,\n",
              "       12.702198 , 13.231604 , 13.044625 , 12.9149685, 12.850224 ,\n",
              "       12.743067 , 13.074797 , 13.430832 , 12.788259 , 12.770254 ,\n",
              "       12.940369 , 13.292213 , 13.020052 , 13.014815 , 12.952961 ,\n",
              "       13.057001 , 13.062838 , 12.576536 , 12.68792  , 13.789892 ,\n",
              "       13.793692 , 12.859207 , 13.311267 , 12.946031 , 12.918797 ,\n",
              "       12.641304 , 13.095421 , 13.205442 , 13.372728 , 12.749592 ,\n",
              "       12.9592285, 13.25603  , 13.312868 , 12.680956 , 12.944357 ,\n",
              "       13.313305 , 12.748827 , 13.132866 , 12.57247  , 12.989504 ,\n",
              "       13.274746 , 13.013857 , 12.804947 , 13.433971 , 12.97171  ,\n",
              "       13.121407 , 13.128008 , 12.969915 , 13.637909 , 13.086829 ,\n",
              "       12.777012 , 12.80129  , 12.843653 , 13.218251 , 12.965511 ,\n",
              "       13.285041 , 13.109871 , 13.092421 , 13.086829 , 12.93452  ,\n",
              "       12.735571 , 13.593367 , 12.9314575, 12.77517  , 12.825391 ,\n",
              "       13.144247 , 13.349247 , 12.909664 , 13.104603 , 13.379445 ,\n",
              "       13.590311 , 13.104603 , 12.856776 , 12.46525  , 12.638851 ,\n",
              "       12.722506 , 13.183605 , 13.008713 , 12.729375 , 13.207266 ,\n",
              "       12.673977 , 12.68792  , 12.951532 , 13.77095  , 12.876332 ,\n",
              "       13.101141 , 12.823837 , 12.777012 , 13.475487 , 12.908573 ,\n",
              "       12.872416 , 13.163977 , 12.790474 , 12.833614 , 12.668495 ,\n",
              "       13.320656 , 12.77517  , 12.748827 , 13.877535 , 12.940369 ,\n",
              "       13.768038 , 13.377716 , 12.763544 , 12.531719 , 13.068885 ,\n",
              "       12.735571 , 13.403099 , 13.750226 , 13.282381 , 12.777012 ,\n",
              "       13.092774 , 13.2127695, 12.634474 , 12.6930485, 13.62043  ,\n",
              "       12.57247  , 12.777012 , 12.813873 , 13.259264 , 13.210888 ,\n",
              "       12.545807 , 12.850224 , 12.911957 , 12.790474 , 13.741102 ,\n",
              "       13.050716 , 13.109871 , 12.617596 , 14.11891  , 12.9314575,\n",
              "       13.034222 , 13.5173235, 13.40155  , 12.859207 , 13.517267 ,\n",
              "       12.79718  , 13.190632 , 12.885675 , 12.952961 , 12.783751 ,\n",
              "       13.313305 , 12.9314575, 13.013857 , 12.751249 , 13.008713 ,\n",
              "       12.886398 , 13.025421 , 12.892275 , 12.790474 , 12.756693 ,\n",
              "       12.659971 , 13.396825 , 13.759203 , 13.133806 , 13.800352 ,\n",
              "       12.561664 , 13.500349 , 12.523996 , 12.885675 , 13.026963 ,\n",
              "       13.15555  , 12.97171  , 13.989016 , 12.71562  , 13.173805 ,\n",
              "       12.859207 , 13.122188 , 13.348427 , 13.40155  , 12.77517  ,\n",
              "       12.743067 , 13.683212 , 14.182014 , 12.5006   , 13.323065 ,\n",
              "       13.227106 , 13.239965 , 12.892275 , 12.749887 , 13.03238  ,\n",
              "       12.763482 , 14.07524  , 13.396825 , 13.161173 , 13.597181 ,\n",
              "       12.909664 , 12.990295 , 12.866208 , 12.889281 , 13.439919 ,\n",
              "       13.972645 , 12.903412 , 13.585631 , 13.248451 , 13.250696 ,\n",
              "       12.702198 , 13.465557 , 13.007641 , 13.655691 , 12.991177 ,\n",
              "       13.264252 , 12.749592 , 13.590311 , 12.494728 , 13.491772 ,\n",
              "       13.85715  , 12.763482 , 13.121407 , 12.5312805], dtype=float32)"
            ]
          },
          "metadata": {},
          "execution_count": 26
        }
      ]
    },
    {
      "cell_type": "markdown",
      "metadata": {
        "id": "7NAbSZiaoJ4z"
      },
      "source": [
        "If you are following along in your own development environment, rather than [Colab](https://colab.research.google.com/github/tensorflow/docs/blob/master/site/en/tutorials/quickstart/beginner.ipynb), see the [install guide](https://www.tensorflow.org/install) for setting up TensorFlow for development.\n",
        "\n",
        "Note: Make sure you have upgraded to the latest `pip` to install the TensorFlow 2 package if you are using your own development environment. See the [install guide](https://www.tensorflow.org/install) for details.\n",
        "\n",
        "## Load a dataset\n",
        "\n",
        "Load and prepare the [MNIST dataset](http://yann.lecun.com/exdb/mnist/). Convert the sample data from integers to floating-point numbers:"
      ]
    },
    {
      "cell_type": "code",
      "execution_count": null,
      "metadata": {
        "id": "7FP5258xjs-v"
      },
      "outputs": [],
      "source": [
        "mnist = tf.keras.datasets.mnist\n",
        "\n",
        "(x_train, y_train), (x_test, y_test) = mnist.load_data()\n",
        "x_train, x_test = x_train / 255.0, x_test / 255.0"
      ]
    },
    {
      "cell_type": "markdown",
      "metadata": {
        "id": "BPZ68wASog_I"
      },
      "source": [
        "## Build a machine learning model\n",
        "\n",
        "Build a `tf.keras.Sequential` model by stacking layers."
      ]
    },
    {
      "cell_type": "code",
      "execution_count": null,
      "metadata": {
        "id": "h3IKyzTCDNGo"
      },
      "outputs": [],
      "source": [
        "model = tf.keras.models.Sequential([\n",
        "  tf.keras.layers.Flatten(input_shape=(28, 28)),\n",
        "  tf.keras.layers.Dense(128, activation='relu'),\n",
        "  tf.keras.layers.Dropout(0.2),\n",
        "  tf.keras.layers.Dense(10)\n",
        "])"
      ]
    },
    {
      "cell_type": "markdown",
      "metadata": {
        "id": "l2hiez2eIUz8"
      },
      "source": [
        "For each example, the model returns a vector of [logits](https://developers.google.com/machine-learning/glossary#logits) or [log-odds](https://developers.google.com/machine-learning/glossary#log-odds) scores, one for each class."
      ]
    },
    {
      "cell_type": "code",
      "execution_count": null,
      "metadata": {
        "id": "OeOrNdnkEEcR"
      },
      "outputs": [],
      "source": [
        "predictions = model(x_train[:1]).numpy()\n",
        "predictions"
      ]
    },
    {
      "cell_type": "markdown",
      "metadata": {
        "id": "tgjhDQGcIniO"
      },
      "source": [
        "The `tf.nn.softmax` function converts these logits to *probabilities* for each class: "
      ]
    },
    {
      "cell_type": "code",
      "execution_count": null,
      "metadata": {
        "id": "zWSRnQ0WI5eq"
      },
      "outputs": [],
      "source": [
        "tf.nn.softmax(predictions).numpy()"
      ]
    },
    {
      "cell_type": "markdown",
      "metadata": {
        "id": "he5u_okAYS4a"
      },
      "source": [
        "Note: It is possible to bake the `tf.nn.softmax` function into the activation function for the last layer of the network. While this can make the model output more directly interpretable, this approach is discouraged as it's impossible to provide an exact and numerically stable loss calculation for all models when using a softmax output. "
      ]
    },
    {
      "cell_type": "markdown",
      "metadata": {
        "id": "hQyugpgRIyrA"
      },
      "source": [
        "Define a loss function for training using `losses.SparseCategoricalCrossentropy`, which takes a vector of logits and a `True` index and returns a scalar loss for each example."
      ]
    },
    {
      "cell_type": "code",
      "execution_count": null,
      "metadata": {
        "id": "RSkzdv8MD0tT"
      },
      "outputs": [],
      "source": [
        "loss_fn = tf.keras.losses.SparseCategoricalCrossentropy(from_logits=True)"
      ]
    },
    {
      "cell_type": "markdown",
      "metadata": {
        "id": "SfR4MsSDU880"
      },
      "source": [
        "This loss is equal to the negative log probability of the true class: The loss is zero if the model is sure of the correct class.\n",
        "\n",
        "This untrained model gives probabilities close to random (1/10 for each class), so the initial loss should be close to `-tf.math.log(1/10) ~= 2.3`."
      ]
    },
    {
      "cell_type": "code",
      "execution_count": null,
      "metadata": {
        "id": "NJWqEVrrJ7ZB"
      },
      "outputs": [],
      "source": [
        "loss_fn(y_train[:1], predictions).numpy()"
      ]
    },
    {
      "cell_type": "markdown",
      "metadata": {
        "id": "ada44eb947d4"
      },
      "source": [
        "Before you start training, configure and compile the model using Keras `Model.compile`. Set the [`optimizer`](https://www.tensorflow.org/api_docs/python/tf/keras/optimizers) class to `adam`, set the `loss` to the `loss_fn` function you defined earlier, and specify a metric to be evaluated for the model by setting the `metrics` parameter to `accuracy`."
      ]
    },
    {
      "cell_type": "code",
      "execution_count": null,
      "metadata": {
        "id": "9foNKHzTD2Vo"
      },
      "outputs": [],
      "source": [
        "model.compile(optimizer='adam',\n",
        "              loss=loss_fn,\n",
        "              metrics=['accuracy'])"
      ]
    },
    {
      "cell_type": "markdown",
      "metadata": {
        "id": "ix4mEL65on-w"
      },
      "source": [
        "## Train and evaluate your model\n",
        "\n",
        "Use the `Model.fit` method to adjust your model parameters and minimize the loss: "
      ]
    },
    {
      "cell_type": "code",
      "execution_count": null,
      "metadata": {
        "id": "y7suUbJXVLqP"
      },
      "outputs": [],
      "source": [
        "model.fit(x_train, y_train, epochs=5)"
      ]
    },
    {
      "cell_type": "markdown",
      "metadata": {
        "id": "4mDAAPFqVVgn"
      },
      "source": [
        "The `Model.evaluate` method checks the models performance, usually on a \"[Validation-set](https://developers.google.com/machine-learning/glossary#validation-set)\" or \"[Test-set](https://developers.google.com/machine-learning/glossary#test-set)\"."
      ]
    },
    {
      "cell_type": "code",
      "execution_count": null,
      "metadata": {
        "id": "F7dTAzgHDUh7"
      },
      "outputs": [],
      "source": [
        "model.evaluate(x_test,  y_test, verbose=2)"
      ]
    },
    {
      "cell_type": "markdown",
      "metadata": {
        "id": "T4JfEh7kvx6m"
      },
      "source": [
        "The image classifier is now trained to ~98% accuracy on this dataset. To learn more, read the [TensorFlow tutorials](https://www.tensorflow.org/tutorials/)."
      ]
    },
    {
      "cell_type": "markdown",
      "metadata": {
        "id": "Aj8NrlzlJqDG"
      },
      "source": [
        "If you want your model to return a probability, you can wrap the trained model, and attach the softmax to it:"
      ]
    },
    {
      "cell_type": "code",
      "execution_count": null,
      "metadata": {
        "id": "rYb6DrEH0GMv"
      },
      "outputs": [],
      "source": [
        "probability_model = tf.keras.Sequential([\n",
        "  model,\n",
        "  tf.keras.layers.Softmax()\n",
        "])"
      ]
    },
    {
      "cell_type": "code",
      "execution_count": null,
      "metadata": {
        "id": "cnqOZtUp1YR_"
      },
      "outputs": [],
      "source": [
        "probability_model(x_test[:5])"
      ]
    },
    {
      "cell_type": "markdown",
      "metadata": {
        "id": "-47O6_GLdRuT"
      },
      "source": [
        "## Conclusion\n",
        "\n",
        "Congratulations! You have trained a machine learning model using a prebuilt dataset using the [Keras](https://www.tensorflow.org/guide/keras/overview) API.\n",
        "\n",
        "For more examples of using Keras, check out the [tutorials](https://www.tensorflow.org/tutorials/keras/). To learn more about building models with Keras, read the [guides](https://www.tensorflow.org/guide/keras). If you want learn more about loading and preparing data, see the tutorials on [image data loading](https://www.tensorflow.org/tutorials/load_data/images) or [CSV data loading](https://www.tensorflow.org/tutorials/load_data/csv).\n"
      ]
    }
  ],
  "metadata": {
    "colab": {
      "collapsed_sections": [
        "rX8mhOLljYeM"
      ],
      "name": "beginner.ipynb",
      "toc_visible": true,
      "provenance": [],
      "include_colab_link": true
    },
    "kernelspec": {
      "display_name": "Python 3",
      "name": "python3"
    }
  },
  "nbformat": 4,
  "nbformat_minor": 0
}